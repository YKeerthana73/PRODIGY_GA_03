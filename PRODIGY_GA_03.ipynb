{
 "cells": [
  {
   "cell_type": "code",
   "execution_count": 37,
   "id": "50496c23",
   "metadata": {},
   "outputs": [
    {
     "name": "stdout",
     "output_type": "stream",
     "text": [
      "Generated Text:\n",
      "the lazy cat slept while the small dog jumped over the quick brown fox.\n"
     ]
    }
   ],
   "source": [
    "import random\n",
    "from collections import defaultdict\n",
    "\n",
    "class MarkovChain:\n",
    "    def __init__(self):\n",
    "        self.transitions = defaultdict(lambda: defaultdict(float))\n",
    "\n",
    "    def train(self, text):\n",
    "        # Train the model on the given text\n",
    "        words = text.split()\n",
    "        for i in range(len(words) - 1):\n",
    "            current_word = words[i]\n",
    "            next_word = words[i + 1]\n",
    "            self.transitions[current_word][next_word] += 1\n",
    "\n",
    "        # Normalize the transition probabilities\n",
    "        for current_word, next_words in self.transitions.items():\n",
    "            total = sum(next_words.values())\n",
    "            for next_word in next_words:\n",
    "                next_words[next_word] /= total  # Convert counts to probabilities\n",
    "\n",
    "    def generate_text(self, length=10):\n",
    "        current_word = random.choice(list(self.transitions.keys()))\n",
    "        text = [current_word]\n",
    "\n",
    "        for _ in range(length - 1):\n",
    "            next_words = self.transitions.get(current_word, {})\n",
    "            if not next_words:\n",
    "                break  # Stop if there are no next words\n",
    "            \n",
    "            next_word = random.choices(\n",
    "                list(next_words.keys()), \n",
    "                weights=list(next_words.values()), \n",
    "                k=1\n",
    "            )[0]\n",
    "            text.append(next_word)\n",
    "            current_word = next_word\n",
    "\n",
    "        return ' '.join(text)\n",
    "\n",
    "# Example usage\n",
    "if __name__ == \"__main__\":\n",
    "    # Sample text to train the model\n",
    "    sample_text = (\n",
    "        \"the small brown dog jumped over the lazy cat. \"\n",
    "        \"the lazy cat slept while the small dog barked. \"\n",
    "        \"he saw the quick brown fox.\"\n",
    "    )\n",
    "\n",
    "    # Create a MarkovChain object\n",
    "    markov_chain = MarkovChain()\n",
    "    markov_chain.train(sample_text)\n",
    "\n",
    "    # Generate text\n",
    "    generated_text = markov_chain.generate_text(27)\n",
    "    print(\"Generated Text:\")\n",
    "    print(generated_text)\n"
   ]
  }
 ],
 "metadata": {
  "kernelspec": {
   "display_name": "Python 3",
   "language": "python",
   "name": "python3"
  },
  "language_info": {
   "codemirror_mode": {
    "name": "ipython",
    "version": 3
   },
   "file_extension": ".py",
   "mimetype": "text/x-python",
   "name": "python",
   "nbconvert_exporter": "python",
   "pygments_lexer": "ipython3",
   "version": "3.12.0"
  }
 },
 "nbformat": 4,
 "nbformat_minor": 5
}
